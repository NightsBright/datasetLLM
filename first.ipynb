{
 "cells": [
  {
   "cell_type": "code",
   "execution_count": 1,
   "metadata": {},
   "outputs": [
    {
     "data": {
      "text/plain": [
       "True"
      ]
     },
     "execution_count": 1,
     "metadata": {},
     "output_type": "execute_result"
    }
   ],
   "source": [
    "import os\n",
    "from dotenv import load_dotenv\n",
    "load_dotenv()\n"
   ]
  },
  {
   "cell_type": "code",
   "execution_count": 2,
   "metadata": {},
   "outputs": [
    {
     "data": {
      "text/plain": [
       "'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'"
      ]
     },
     "execution_count": 2,
     "metadata": {},
     "output_type": "execute_result"
    }
   ],
   "source": [
    "groq_api_key=os.getenv(\"GROQ_API_KEY\")\n",
    "groq_api_key"
   ]
  },
  {
   "cell_type": "code",
   "execution_count": 3,
   "metadata": {},
   "outputs": [
    {
     "data": {
      "text/plain": [
       "ChatGroq(client=<groq.resources.chat.completions.Completions object at 0x000002A3CB22E270>, async_client=<groq.resources.chat.completions.AsyncCompletions object at 0x000002A3CB22FE00>, model_name='Gemma2-9b-It', model_kwargs={}, groq_api_key=SecretStr('**********'))"
      ]
     },
     "execution_count": 3,
     "metadata": {},
     "output_type": "execute_result"
    }
   ],
   "source": [
    "from langchain_groq import ChatGroq\n",
    "model=ChatGroq(model=\"Gemma2-9b-It\",groq_api_key=groq_api_key)\n",
    "model"
   ]
  },
  {
   "cell_type": "code",
   "execution_count": 11,
   "metadata": {},
   "outputs": [
    {
     "data": {
      "text/plain": [
       "AIMessage(content='Linda, a 3rd-grade student, delivered a speech on the \"Importance of Education.\" She emphasized that education empowers individuals by removing fear, fostering confidence, and promoting self-reliance.  \\n\\nEducation equips us to face life\\'s challenges, achieve financial stability, and live fulfilling lives. It goes beyond academic knowledge, encompassing social skills and personal growth. Linda stressed that education is essential for individual and societal development, urging everyone to prioritize it. \\n', additional_kwargs={}, response_metadata={'token_usage': {'completion_tokens': 96, 'prompt_tokens': 236, 'total_tokens': 332, 'completion_time': 0.174545455, 'prompt_time': 0.007107865, 'queue_time': 0.0037371039999999998, 'total_time': 0.18165332}, 'model_name': 'Gemma2-9b-It', 'system_fingerprint': 'fp_10c08bf97d', 'finish_reason': 'stop', 'logprobs': None}, id='run-b3a7b626-e3d0-46f8-a70f-d1ee8cc8334f-0', usage_metadata={'input_tokens': 236, 'output_tokens': 96, 'total_tokens': 332})"
      ]
     },
     "execution_count": 11,
     "metadata": {},
     "output_type": "execute_result"
    }
   ],
   "source": [
    "from langchain_core.messages import HumanMessage,SystemMessage\n",
    "messages=[\n",
    "    SystemMessage(content=\"you are an expert summarizer with expertise in summarisation, summarize the following\"),\n",
    "    HumanMessage(content=\"Good morning respected teachers and my dear friends. I am Linda studying from grade 3.The topic of my speech is ‘Importance of Education’. I would let you know all about the value of education and its contribution to our lives.Education helps us to remove doubt and fear of challenges in our lives. We can say it is a tool that keeps us happy and give courage to fight in difficult situations. We need education to make ourselves confident and to be aware of equality. It makes us self -dependent. Education shape us for the future challenges in life. It helps you to earn money to fulfill the basic need of life.If we are not properly educated, we may face challenges in some situations. Education is not about gaining knowledge only; it means learning the ways to be happy and social life.My dear friends, education is like a healthy food that nourishes us both internally and externally. It gives us confidence by developing our personality. We should help others as well as ourselves to be educated and contribute to the development of the society.Thank you!!!\")\n",
    "]\n",
    "result = model.invoke(messages)\n",
    "result"
   ]
  },
  {
   "cell_type": "code",
   "execution_count": 12,
   "metadata": {},
   "outputs": [
    {
     "data": {
      "text/plain": [
       "'Linda, a 3rd-grade student, delivered a speech on the \"Importance of Education.\" She emphasized that education empowers individuals by removing fear, fostering confidence, and promoting self-reliance.  \\n\\nEducation equips us to face life\\'s challenges, achieve financial stability, and live fulfilling lives. It goes beyond academic knowledge, encompassing social skills and personal growth. Linda stressed that education is essential for individual and societal development, urging everyone to prioritize it. \\n'"
      ]
     },
     "execution_count": 12,
     "metadata": {},
     "output_type": "execute_result"
    }
   ],
   "source": [
    "from langchain_core.output_parsers import StrOutputParser\n",
    "parser = StrOutputParser()\n",
    "parser.invoke(result)"
   ]
  },
  {
   "cell_type": "code",
   "execution_count": 13,
   "metadata": {},
   "outputs": [
    {
     "name": "stdout",
     "output_type": "stream",
     "text": [
      "Linda, a grade 3 student, delivered a speech on the \"Importance of Education.\"  She emphasized that education is crucial for removing fear, building confidence, and fostering self-reliance. \n",
      "\n",
      "It equips individuals to face life's challenges, promotes awareness of equality, and helps them earn a living. Linda stressed that education encompasses not just knowledge but also developing personal growth and social skills, making it essential for individual and societal well-being. \n",
      "\n"
     ]
    }
   ],
   "source": [
    "chain = model|parser\n",
    "print(chain.invoke(messages))"
   ]
  }
 ],
 "metadata": {
  "kernelspec": {
   "display_name": "myenv",
   "language": "python",
   "name": "python3"
  },
  "language_info": {
   "codemirror_mode": {
    "name": "ipython",
    "version": 3
   },
   "file_extension": ".py",
   "mimetype": "text/x-python",
   "name": "python",
   "nbconvert_exporter": "python",
   "pygments_lexer": "ipython3",
   "version": "3.13.1"
  }
 },
 "nbformat": 4,
 "nbformat_minor": 2
}
